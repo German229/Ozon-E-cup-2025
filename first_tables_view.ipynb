{
 "cells": [
  {
   "metadata": {},
   "cell_type": "markdown",
   "source": [
    "<h2>Импорт библиотек</h2>\n",
    "<p>Импорт необходимых библиотек и инициализация <code>findspark</code> для работы со Spark в Python.\n",
    "Подключаются модули <code>pyspark.sql</code> и функции для дальнейшей обработки данных.</p>\n",
    "<hr>"
   ],
   "id": "62d34cab4c80bf83"
  },
  {
   "metadata": {},
   "cell_type": "code",
   "source": [
    "import glob\n",
    "import findspark\n",
    "findspark.init(\"/opt/spark\")\n",
    "from pyspark.sql import SparkSession"
   ],
   "id": "dd2a9fb05bce1ca0",
   "outputs": [],
   "execution_count": null
  },
  {
   "metadata": {},
   "cell_type": "markdown",
   "source": [
    "<h2>Создание SparkSession</h2>\n",
    "<p>Создание объекта <code>SparkSession</code> с заданными параметрами памяти для драйвера и исполнителей.\n",
    "Также включается опция игнорирования повреждённых файлов при чтении.</p>\n",
    "<hr>"
   ],
   "id": "4924f125303f9ed1"
  },
  {
   "metadata": {},
   "cell_type": "code",
   "source": [
    "spark = SparkSession.builder \\\n",
    "    .appName(\"OzonApparelAnalysis\") \\\n",
    "    .config(\"spark.driver.memory\", \"8g\") \\\n",
    "    .config(\"spark.executor.memory\", \"8g\") \\\n",
    "    .getOrCreate()\n",
    "spark.conf.set(\"spark.sql.files.ignoreCorruptFiles\", \"true\")"
   ],
   "id": "a1afe08527079e8",
   "outputs": [],
   "execution_count": null
  },
  {
   "metadata": {},
   "cell_type": "markdown",
   "source": [
    "<h2>Загрузка parquet-файлов</h2>\n",
    "<p>Формирование списков путей к parquet-файлам с данными: заказы, взаимодействия пользователей,\n",
    "описания товаров, дерево категорий и тестовая выборка.</p>\n",
    "<hr>"
   ],
   "id": "85927540cf9f53d4"
  },
  {
   "metadata": {},
   "cell_type": "code",
   "source": [
    "items_files = glob.glob('/srv/data/ml_ozon_recsys_train_final_apparel_items_data/*.parquet')\n",
    "categories_tree = glob.glob('/srv/data/ml_ozon_recsys_train_final_categories_tree/*.parquet')\n",
    "participants_files = glob.glob('/srv/data/ml_ozon_recsys_test_for_participants/*.parquet')\n",
    "orders_files = glob.glob('/srv/data/preprocessed/orders_preprocessed/*.parquet')\n",
    "tracker_files = glob.glob('/srv/data/preprocessed/tracker_preprocessed/*.parquet')\n",
    "test_files = glob.glob('/srv/data/ml_ozon_recsys_test/*.parquet')"
   ],
   "id": "6eb4e8fa78fdddae",
   "outputs": [],
   "execution_count": null
  },
  {
   "metadata": {},
   "cell_type": "markdown",
   "source": [
    "<h2>Чтение parquet-файлов</h2>\n",
    "<p>Загрузка parquet-файлов в Spark DataFrame: <code>orders</code>, <code>tracker</code>,\n",
    "<code>items</code>, <code>categories</code> и <code>test</code>.\n",
    "Каждый датафрейм представляет свой источник данных.</p>\n",
    "<hr>"
   ],
   "id": "ff4f78cfdc153252"
  },
  {
   "metadata": {},
   "cell_type": "code",
   "source": [
    "orders = spark.read.parquet(*orders_files)\n",
    "tracker = spark.read.parquet(*tracker_files)\n",
    "items = spark.read.parquet(*items_files)\n",
    "categories = spark.read.parquet(*categories_tree)\n",
    "test = spark.read.parquet(*test_files)"
   ],
   "id": "240cb0d2c8932bc9",
   "outputs": [],
   "execution_count": null
  },
  {
   "metadata": {},
   "cell_type": "markdown",
   "source": [
    "<h2>Анализ таблицы orders</h2>\n",
    "<p>Просмотр структуры и примеров данных из таблицы <code>orders</code>.\n",
    "Отображается схема, первые строки и базовые статистики.</p>\n",
    "<hr>"
   ],
   "id": "fd90550630fe5b8e"
  },
  {
   "metadata": {},
   "cell_type": "code",
   "source": [
    "print(\"\\n=== Orders ===\")\n",
    "orders.printSchema()\n",
    "orders.limit(5).show(truncate=False)\n",
    "orders.describe().show()"
   ],
   "id": "5c6311cdd0a83884",
   "outputs": [],
   "execution_count": null
  },
  {
   "metadata": {},
   "cell_type": "markdown",
   "source": [
    "<h2>Анализ таблицы tracker</h2>\n",
    "<p>Просмотр структуры и примеров данных из таблицы <code>tracker</code>.\n",
    "Аналогично выводятся схема, несколько строк и статистика.</p>\n",
    "<hr>"
   ],
   "id": "fef1e8af0c701a03"
  },
  {
   "metadata": {},
   "cell_type": "code",
   "source": [
    "print(\"\\n=== Tracker ===\")\n",
    "tracker.printSchema()\n",
    "tracker.limit(5).show(truncate=False)\n",
    "tracker.describe().show()"
   ],
   "id": "5d23b753f166cbf",
   "outputs": [],
   "execution_count": null
  },
  {
   "metadata": {},
   "cell_type": "markdown",
   "source": [
    "<h2>Анализ таблицы items</h2>\n",
    "<p>Просмотр структуры и примеров данных из таблицы <code>items</code>.\n",
    "Вывод схемы, примеров строк и статистик для числовых признаков.</p>\n",
    "<hr>"
   ],
   "id": "c58a8e217707d45f"
  },
  {
   "metadata": {},
   "cell_type": "code",
   "source": [
    "print(\"\\n=== Items ===\")\n",
    "items.printSchema()\n",
    "items.limit(5).show(truncate=False)\n",
    "items.describe().show()"
   ],
   "id": "18f87147fdb9f26f",
   "outputs": [],
   "execution_count": null
  },
  {
   "metadata": {},
   "cell_type": "markdown",
   "source": [
    "<h2>Анализ таблицы categories</h2>\n",
    "<p>Просмотр структуры и примеров данных из таблицы <code>categories</code> (дерево категорий).\n",
    "Отображение схемы, первых строк и статистики.</p>\n",
    "<hr>"
   ],
   "id": "41699341d79e69a7"
  },
  {
   "metadata": {},
   "cell_type": "code",
   "source": [
    "print(\"\\n=== Categories Tree ===\")\n",
    "categories.printSchema()\n",
    "categories.limit(5).show(truncate=False)\n",
    "categories.describe().show()"
   ],
   "id": "fac4686d79a38939",
   "outputs": [],
   "execution_count": null
  },
  {
   "metadata": {},
   "cell_type": "markdown",
   "source": [
    "<h2>Анализ таблицы test</h2>\n",
    "<p>Просмотр структуры и примеров данных из тестовой выборки <code>test</code>.\n",
    "Вывод схемы, примеров строк и базовых статистик.</p>\n",
    "<hr>"
   ],
   "id": "135493120fd6532e"
  },
  {
   "metadata": {},
   "cell_type": "code",
   "source": [
    "print(\"\\n=== Test ===\")\n",
    "test.printSchema()\n",
    "test.limit(5).show(truncate=False)\n",
    "test.describe().show()"
   ],
   "id": "a87f719064d71f5b",
   "outputs": [],
   "execution_count": null
  }
 ],
 "metadata": {
  "kernelspec": {
   "display_name": "Python 3",
   "language": "python",
   "name": "python3"
  },
  "language_info": {
   "codemirror_mode": {
    "name": "ipython",
    "version": 2
   },
   "file_extension": ".py",
   "mimetype": "text/x-python",
   "name": "python",
   "nbconvert_exporter": "python",
   "pygments_lexer": "ipython2",
   "version": "2.7.6"
  }
 },
 "nbformat": 4,
 "nbformat_minor": 5
}
